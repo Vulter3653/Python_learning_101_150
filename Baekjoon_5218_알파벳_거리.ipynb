{
  "nbformat": 4,
  "nbformat_minor": 0,
  "metadata": {
    "colab": {
      "name": "Baekjoon_5218_알파벳 거리.ipynb",
      "provenance": [],
      "collapsed_sections": [],
      "authorship_tag": "ABX9TyMimBI1tasHBXeV+0jfRZ6J",
      "include_colab_link": true
    },
    "kernelspec": {
      "name": "python3",
      "display_name": "Python 3"
    },
    "language_info": {
      "name": "python"
    }
  },
  "cells": [
    {
      "cell_type": "markdown",
      "metadata": {
        "id": "view-in-github",
        "colab_type": "text"
      },
      "source": [
        "<a href=\"https://colab.research.google.com/github/Vulter3653/Python_learning_101_150/blob/main/Baekjoon_5218_%EC%95%8C%ED%8C%8C%EB%B2%B3_%EA%B1%B0%EB%A6%AC.ipynb\" target=\"_parent\"><img src=\"https://colab.research.google.com/assets/colab-badge.svg\" alt=\"Open In Colab\"/></a>"
      ]
    },
    {
      "cell_type": "code",
      "execution_count": 16,
      "metadata": {
        "colab": {
          "base_uri": "https://localhost:8080/"
        },
        "id": "hQcTamwhE4K-",
        "outputId": "0c1b7387-c1e3-4309-8e85-33f7fcfb700f"
      },
      "outputs": [
        {
          "output_type": "stream",
          "name": "stdout",
          "text": [
            "5\n",
            "AAAA ABCD\n",
            "Distances: 0 1 2 3\n",
            "ABCD AAAA\n",
            "Distances: 0 25 24 23\n",
            "DARK LOKI\n",
            "Distances: 8 14 19 24\n",
            "STRONG THANOS\n",
            "Distances: 1 14 9 25 1 12\n",
            "DEADLY ULTIMO\n",
            "Distances: 17 7 19 5 1 16\n"
          ]
        }
      ],
      "source": [
        "from string import ascii_uppercase\n",
        "\n",
        "alphabet_list = list(ascii_uppercase)\n",
        "alphabet_num = list(range(1,27))\n",
        "\n",
        "alpha_dic = dict(zip(alphabet_list,alphabet_num))\n",
        "\n",
        "for _ in range(int(input())):\n",
        "  A,B = input().split()\n",
        "  A = list(A)\n",
        "  B = list(B)\n",
        "\n",
        "  ans = \"Distances:\"\n",
        "  for x in range(len(A)):\n",
        "    a = alpha_dic[A[x]]\n",
        "    b = alpha_dic[B[x]]\n",
        "    if b >= a:\n",
        "      ans += \" {}\".format(b-a)\n",
        "    else:\n",
        "      ans += \" {}\".format(b+26-a)\n",
        "\n",
        "  print(ans)"
      ]
    },
    {
      "cell_type": "code",
      "source": [
        "import sys\n",
        "from string import ascii_uppercase\n",
        "\n",
        "alphabet_list = list(ascii_uppercase)\n",
        "alphabet_num = list(range(1,27))\n",
        "\n",
        "alpha_dic = dict(zip(alphabet_list,alphabet_num))\n",
        "\n",
        "for _ in range(int(sys.stdin.readline().rstrip())):\n",
        "  A,B = sys.stdin.readline().rstrip().split()\n",
        "  A = list(A)\n",
        "  B = list(B)\n",
        "\n",
        "  ans = \"Distances:\"\n",
        "  for x in range(len(A)):\n",
        "    a = alpha_dic[A[x]]\n",
        "    b = alpha_dic[B[x]]\n",
        "    if b >= a:\n",
        "      ans += \" {}\".format(b-a)\n",
        "    else:\n",
        "      ans += \" {}\".format(b+26-a)\n",
        "\n",
        "  print(ans)"
      ],
      "metadata": {
        "id": "eso1j5IPr66N"
      },
      "execution_count": null,
      "outputs": []
    }
  ]
}