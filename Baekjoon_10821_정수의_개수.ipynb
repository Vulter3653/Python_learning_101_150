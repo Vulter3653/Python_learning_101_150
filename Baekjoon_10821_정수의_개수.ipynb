{
  "nbformat": 4,
  "nbformat_minor": 0,
  "metadata": {
    "colab": {
      "name": "Baekjoon_10821_정수의 개수.ipynb",
      "provenance": [],
      "collapsed_sections": [],
      "authorship_tag": "ABX9TyNUGzyaEnAbit76jISzvQma",
      "include_colab_link": true
    },
    "kernelspec": {
      "name": "python3",
      "display_name": "Python 3"
    },
    "language_info": {
      "name": "python"
    }
  },
  "cells": [
    {
      "cell_type": "markdown",
      "metadata": {
        "id": "view-in-github",
        "colab_type": "text"
      },
      "source": [
        "<a href=\"https://colab.research.google.com/github/Vulter3653/Python_learning_101_150/blob/main/Baekjoon_10821_%EC%A0%95%EC%88%98%EC%9D%98_%EA%B0%9C%EC%88%98.ipynb\" target=\"_parent\"><img src=\"https://colab.research.google.com/assets/colab-badge.svg\" alt=\"Open In Colab\"/></a>"
      ]
    },
    {
      "cell_type": "code",
      "execution_count": 1,
      "metadata": {
        "colab": {
          "base_uri": "https://localhost:8080/"
        },
        "id": "oFEHnAw_oMpx",
        "outputId": "e1369837-57e2-4684-eb05-213820c2c12a"
      },
      "outputs": [
        {
          "output_type": "stream",
          "name": "stdout",
          "text": [
            "10,20,30,50,100\n",
            "5\n"
          ]
        }
      ],
      "source": [
        "a = list(map(int,input().split(',')))\n",
        "print(len(a))"
      ]
    },
    {
      "cell_type": "code",
      "source": [
        "import sys\n",
        "a = list(map(int,sys.stdin.readline().rstrip().split(',')))\n",
        "print(len(a))"
      ],
      "metadata": {
        "id": "8Ym8_5LFpTDW"
      },
      "execution_count": null,
      "outputs": []
    }
  ]
}