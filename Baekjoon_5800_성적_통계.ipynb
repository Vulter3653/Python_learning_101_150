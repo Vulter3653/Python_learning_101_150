{
  "nbformat": 4,
  "nbformat_minor": 0,
  "metadata": {
    "colab": {
      "name": "Baekjoon_5800_성적 통계.ipynb",
      "provenance": [],
      "collapsed_sections": [],
      "authorship_tag": "ABX9TyNt6p8Vp8T4cDTDz+mG6lH5",
      "include_colab_link": true
    },
    "kernelspec": {
      "name": "python3",
      "display_name": "Python 3"
    },
    "language_info": {
      "name": "python"
    }
  },
  "cells": [
    {
      "cell_type": "markdown",
      "metadata": {
        "id": "view-in-github",
        "colab_type": "text"
      },
      "source": [
        "<a href=\"https://colab.research.google.com/github/Vulter3653/Python_learning_101_150/blob/main/Baekjoon_5800_%EC%84%B1%EC%A0%81_%ED%86%B5%EA%B3%84.ipynb\" target=\"_parent\"><img src=\"https://colab.research.google.com/assets/colab-badge.svg\" alt=\"Open In Colab\"/></a>"
      ]
    },
    {
      "cell_type": "code",
      "execution_count": 7,
      "metadata": {
        "colab": {
          "base_uri": "https://localhost:8080/"
        },
        "id": "j1_XPbOd1LKb",
        "outputId": "e1dc5f71-9754-41ed-a00d-7bb983fcd369"
      },
      "outputs": [
        {
          "output_type": "stream",
          "name": "stdout",
          "text": [
            "2\n",
            "5 30 25 76 23 78\n",
            "Class 1\n",
            "Max 78, Min 23, Largest gap 46\n",
            "6 25 50 70 99 70 90\n",
            "Class 2\n",
            "Max 99, Min 25, Largest gap 25\n"
          ]
        }
      ],
      "source": [
        "for x in range(1,int(input())+1):\n",
        "  a = list(map(int,input().split()))\n",
        "  a.remove(a[0])\n",
        "  a.sort()\n",
        "  b = []\n",
        "  i = len(a)-1\n",
        "  while i != 0:\n",
        "    b.append(a[i]-a[i-1])\n",
        "    i -= 1\n",
        "  print(\"Class \"+str(x))\n",
        "  print('Max %d, Min %d, Largest gap %d'%(max(a),min(a),max(b)))"
      ]
    },
    {
      "cell_type": "code",
      "source": [
        "import sys\n",
        "for x in range(1,int(sys.stdin.readline().rstrip())+1):\n",
        "  a = list(map(int,sys.stdin.readline().rstrip().split()))\n",
        "  a.remove(a[0])\n",
        "  a.sort()\n",
        "  b = []\n",
        "  i = len(a)-1\n",
        "  while i != 0:\n",
        "    b.append(a[i]-a[i-1])\n",
        "    i -= 1\n",
        "  print(\"Class \"+str(x))\n",
        "  print('Max %d, Min %d, Largest gap %d'%(max(a),min(a),max(b)))"
      ],
      "metadata": {
        "id": "7q9v_xbH3xPv"
      },
      "execution_count": null,
      "outputs": []
    },
    {
      "cell_type": "code",
      "source": [
        "a = [30, 25, 76, 23, 78]\n",
        "a.sort()\n",
        "print(a)\n",
        "b = []\n",
        "i = len(a)-1\n",
        "while i != 0:\n",
        "  b.append(a[i]-a[i-1])\n",
        "  i -= 1\n",
        "print(max(b))"
      ],
      "metadata": {
        "colab": {
          "base_uri": "https://localhost:8080/"
        },
        "id": "WgDLbrqT2u7A",
        "outputId": "cbcb1a31-40e0-45c4-dffa-cbbcb092a2a5"
      },
      "execution_count": 6,
      "outputs": [
        {
          "output_type": "stream",
          "name": "stdout",
          "text": [
            "[23, 25, 30, 76, 78]\n",
            "46\n"
          ]
        }
      ]
    }
  ]
}