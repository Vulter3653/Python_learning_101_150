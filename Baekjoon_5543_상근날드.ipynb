{
  "nbformat": 4,
  "nbformat_minor": 0,
  "metadata": {
    "colab": {
      "name": "Baekjoon_5543_상근날드.ipynb",
      "provenance": [],
      "collapsed_sections": [],
      "authorship_tag": "ABX9TyMZg5VFmqLtMkjkSsDcieHd",
      "include_colab_link": true
    },
    "kernelspec": {
      "name": "python3",
      "display_name": "Python 3"
    },
    "language_info": {
      "name": "python"
    }
  },
  "cells": [
    {
      "cell_type": "markdown",
      "metadata": {
        "id": "view-in-github",
        "colab_type": "text"
      },
      "source": [
        "<a href=\"https://colab.research.google.com/github/Vulter3653/Python_learning_101_150/blob/main/Baekjoon_5543_%EC%83%81%EA%B7%BC%EB%82%A0%EB%93%9C.ipynb\" target=\"_parent\"><img src=\"https://colab.research.google.com/assets/colab-badge.svg\" alt=\"Open In Colab\"/></a>"
      ]
    },
    {
      "cell_type": "code",
      "execution_count": 1,
      "metadata": {
        "colab": {
          "base_uri": "https://localhost:8080/"
        },
        "id": "cVVQpSakTpw0",
        "outputId": "c61fb267-5173-4669-b076-eb6de7e55f31"
      },
      "outputs": [
        {
          "output_type": "stream",
          "name": "stdout",
          "text": [
            "800\n",
            "700\n",
            "900\n",
            "198\n",
            "330\n",
            "700\n",
            "198\n",
            "898\n"
          ]
        }
      ],
      "source": [
        "B = []\n",
        "D = []\n",
        "for _ in range(3):\n",
        "  B.append(int(input()))\n",
        "for _ in range(2):\n",
        "  D.append(int(input()))\n",
        "print(min(B)+min(D)-50)"
      ]
    },
    {
      "cell_type": "code",
      "source": [
        "import sys\n",
        "B = []\n",
        "D = []\n",
        "for _ in range(3):\n",
        "  B.append(int(sys.stdin.readline().rstrip()))\n",
        "for _ in range(2):\n",
        "  D.append(int(sys.stdin.readline().rstrip()))\n",
        "print(min(B)+min(D)-50)"
      ],
      "metadata": {
        "id": "Xt9EF4ASUIIK"
      },
      "execution_count": null,
      "outputs": []
    }
  ]
}