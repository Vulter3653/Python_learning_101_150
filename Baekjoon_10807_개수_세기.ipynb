{
  "nbformat": 4,
  "nbformat_minor": 0,
  "metadata": {
    "colab": {
      "name": "Baekjoon_10807_개수 세기.ipynb",
      "provenance": [],
      "collapsed_sections": [],
      "authorship_tag": "ABX9TyOwjTw6hf4fKinxsrwSPIdm",
      "include_colab_link": true
    },
    "kernelspec": {
      "name": "python3",
      "display_name": "Python 3"
    },
    "language_info": {
      "name": "python"
    }
  },
  "cells": [
    {
      "cell_type": "markdown",
      "metadata": {
        "id": "view-in-github",
        "colab_type": "text"
      },
      "source": [
        "<a href=\"https://colab.research.google.com/github/Vulter3653/Python_learning_101_150/blob/main/Baekjoon_10807_%EA%B0%9C%EC%88%98_%EC%84%B8%EA%B8%B0.ipynb\" target=\"_parent\"><img src=\"https://colab.research.google.com/assets/colab-badge.svg\" alt=\"Open In Colab\"/></a>"
      ]
    },
    {
      "cell_type": "code",
      "execution_count": 3,
      "metadata": {
        "colab": {
          "base_uri": "https://localhost:8080/"
        },
        "id": "47knaG78soaW",
        "outputId": "7eb367ca-c507-460d-b428-59bc044e32ec"
      },
      "outputs": [
        {
          "output_type": "stream",
          "name": "stdout",
          "text": [
            "11\n",
            "1 4 1 2 4 2 4 2 3 4 4\n",
            "5\n",
            "0\n"
          ]
        }
      ],
      "source": [
        "input()\n",
        "x = list(input().split())\n",
        "print(x.count(input()))"
      ]
    },
    {
      "cell_type": "code",
      "source": [
        "import sys\n",
        "sys.stdin.readline().rstrip()\n",
        "x = list(sys.stdin.readline().rstrip().split())\n",
        "print(x.count(sys.stdin.readline().rstrip()))"
      ],
      "metadata": {
        "id": "-n4Qu8j1t1sL"
      },
      "execution_count": null,
      "outputs": []
    }
  ]
}