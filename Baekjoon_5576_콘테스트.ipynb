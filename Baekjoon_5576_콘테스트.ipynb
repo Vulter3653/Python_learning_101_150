{
  "nbformat": 4,
  "nbformat_minor": 0,
  "metadata": {
    "colab": {
      "name": "Baekjoon_5576_콘테스트.ipynb",
      "provenance": [],
      "collapsed_sections": [],
      "authorship_tag": "ABX9TyNVnBu2QDC8ua9tsYAKAnci",
      "include_colab_link": true
    },
    "kernelspec": {
      "name": "python3",
      "display_name": "Python 3"
    },
    "language_info": {
      "name": "python"
    }
  },
  "cells": [
    {
      "cell_type": "markdown",
      "metadata": {
        "id": "view-in-github",
        "colab_type": "text"
      },
      "source": [
        "<a href=\"https://colab.research.google.com/github/Vulter3653/Python_learning_101_150/blob/main/Baekjoon_5576_%EC%BD%98%ED%85%8C%EC%8A%A4%ED%8A%B8.ipynb\" target=\"_parent\"><img src=\"https://colab.research.google.com/assets/colab-badge.svg\" alt=\"Open In Colab\"/></a>"
      ]
    },
    {
      "cell_type": "code",
      "execution_count": 5,
      "metadata": {
        "colab": {
          "base_uri": "https://localhost:8080/"
        },
        "id": "eltTBKu1rKRB",
        "outputId": "91fd3854-317a-40bd-8c97-e22b23bb1719"
      },
      "outputs": [
        {
          "output_type": "stream",
          "name": "stdout",
          "text": [
            "23\n",
            "23\n",
            "20\n",
            "15\n",
            "15\n",
            "14\n",
            "13\n",
            "9\n",
            "7\n",
            "6\n",
            "25\n",
            "19\n",
            "17\n",
            "17\n",
            "16\n",
            "13\n",
            "12\n",
            "11\n",
            "9\n",
            "5\n",
            "66 61\n",
            "17\n",
            "25\n",
            "23\n",
            "25\n",
            "79\n",
            "29\n",
            "1\n",
            "61\n",
            "59\n",
            "100\n",
            "44\n",
            "74\n",
            "94\n",
            "57\n",
            "13\n",
            "54\n",
            "82\n",
            "0\n",
            "42\n",
            "45\n",
            "240 250\n"
          ]
        }
      ],
      "source": [
        "for _ in range(2):\n",
        "  w = []\n",
        "  k = []\n",
        "\n",
        "  for _ in range(10):\n",
        "    w.append(int(input()))\n",
        "  for _ in range(10):\n",
        "    k.append(int(input()))\n",
        "\n",
        "  w.sort()\n",
        "  k.sort()\n",
        "\n",
        "  print(\"{} {}\".format(w[9]+w[8]+w[7],k[9]+k[8]+k[7]))"
      ]
    },
    {
      "cell_type": "code",
      "source": [
        "w = []\n",
        "k = []\n",
        "\n",
        "for _ in range(10):\n",
        "  w.append(int(input()))\n",
        "for _ in range(10):\n",
        "  k.append(int(input()))\n",
        "\n",
        "w.sort()\n",
        "k.sort()\n",
        "\n",
        "print(\"{} {}\".format(w[9]+w[8]+w[7],k[9]+k[8]+k[7]))"
      ],
      "metadata": {
        "id": "BamRPUJqtXWI"
      },
      "execution_count": null,
      "outputs": []
    },
    {
      "cell_type": "code",
      "source": [
        "import sys\n",
        "\n",
        "w = []\n",
        "k = []\n",
        "\n",
        "for _ in range(10):\n",
        "  w.append(int(sys.stdin.readline().rstrip()))\n",
        "for _ in range(10):\n",
        "  k.append(int(sys.stdin.readline().rstrip()))\n",
        "\n",
        "w.sort()\n",
        "k.sort()\n",
        "\n",
        "print(\"{} {}\".format(w[9]+w[8]+w[7],k[9]+k[8]+k[7]))"
      ],
      "metadata": {
        "id": "57IBVqAqtuZu"
      },
      "execution_count": null,
      "outputs": []
    }
  ]
}