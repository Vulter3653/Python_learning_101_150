{
  "nbformat": 4,
  "nbformat_minor": 0,
  "metadata": {
    "colab": {
      "name": "Baekjoon_2460_지능형 기차 2.ipynb",
      "provenance": [],
      "collapsed_sections": [],
      "authorship_tag": "ABX9TyOLaSVoL2Pln3tZqQTG5Avm",
      "include_colab_link": true
    },
    "kernelspec": {
      "name": "python3",
      "display_name": "Python 3"
    },
    "language_info": {
      "name": "python"
    }
  },
  "cells": [
    {
      "cell_type": "markdown",
      "metadata": {
        "id": "view-in-github",
        "colab_type": "text"
      },
      "source": [
        "<a href=\"https://colab.research.google.com/github/Vulter3653/Python_learning_101_150/blob/main/Baekjoon_2460_%EC%A7%80%EB%8A%A5%ED%98%95_%EA%B8%B0%EC%B0%A8_2.ipynb\" target=\"_parent\"><img src=\"https://colab.research.google.com/assets/colab-badge.svg\" alt=\"Open In Colab\"/></a>"
      ]
    },
    {
      "cell_type": "code",
      "execution_count": 1,
      "metadata": {
        "colab": {
          "base_uri": "https://localhost:8080/"
        },
        "id": "avkMMcxjKzsC",
        "outputId": "831882ae-1c80-4f07-f804-0f850355198b"
      },
      "outputs": [
        {
          "output_type": "stream",
          "name": "stdout",
          "text": [
            "0 32\n",
            "3 13\n",
            "28 25\n",
            "17 5\n",
            "21 20\n",
            "11 0\n",
            "12 12\n",
            "4 2\n",
            "0 8\n",
            "21 0\n",
            "42\n"
          ]
        }
      ],
      "source": [
        "c = []\n",
        "x = 0\n",
        "for _ in range(10):\n",
        "  a,b = map(int,input().split())\n",
        "  x += (b-a)\n",
        "  c.append(x)\n",
        "print(max(c))"
      ]
    },
    {
      "cell_type": "code",
      "source": [
        "import sys\n",
        "\n",
        "c = []\n",
        "x = 0\n",
        "for _ in range(10):\n",
        "  a,b = map(int,sys.stdin.readline().rstrip().split())\n",
        "  x += (b-a)\n",
        "  c.append(x)\n",
        "print(max(c))"
      ],
      "metadata": {
        "id": "2UoVPE6BLkf7"
      },
      "execution_count": null,
      "outputs": []
    }
  ]
}