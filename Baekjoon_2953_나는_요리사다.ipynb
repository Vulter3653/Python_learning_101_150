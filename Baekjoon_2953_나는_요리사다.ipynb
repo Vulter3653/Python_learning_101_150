{
  "nbformat": 4,
  "nbformat_minor": 0,
  "metadata": {
    "colab": {
      "name": "Baekjoon_2953_나는 요리사다.ipynb",
      "provenance": [],
      "collapsed_sections": [],
      "authorship_tag": "ABX9TyMIjNMa9Wzy9FUv5RNnkF98",
      "include_colab_link": true
    },
    "kernelspec": {
      "name": "python3",
      "display_name": "Python 3"
    },
    "language_info": {
      "name": "python"
    }
  },
  "cells": [
    {
      "cell_type": "markdown",
      "metadata": {
        "id": "view-in-github",
        "colab_type": "text"
      },
      "source": [
        "<a href=\"https://colab.research.google.com/github/Vulter3653/Python_learning_101_150/blob/main/Baekjoon_2953_%EB%82%98%EB%8A%94_%EC%9A%94%EB%A6%AC%EC%82%AC%EB%8B%A4.ipynb\" target=\"_parent\"><img src=\"https://colab.research.google.com/assets/colab-badge.svg\" alt=\"Open In Colab\"/></a>"
      ]
    },
    {
      "cell_type": "code",
      "execution_count": 1,
      "metadata": {
        "id": "xL_KW8bWRDDc",
        "colab": {
          "base_uri": "https://localhost:8080/"
        },
        "outputId": "8f85be38-fe2c-418d-8fff-8c2668d5b6f0"
      },
      "outputs": [
        {
          "output_type": "stream",
          "name": "stdout",
          "text": [
            "5 4 4 5\n",
            "5 4 4 4\n",
            "5 5 4 4\n",
            "5 5 5 4\n",
            "4 4 4 5\n",
            "4 19\n"
          ]
        }
      ],
      "source": [
        "a = []\n",
        "for _ in range(5):\n",
        "  x = list(map(int,input().rstrip().split()))\n",
        "  a.append(sum(x))\n",
        "\n",
        "print(a.index(max(a))+1,max(a))"
      ]
    },
    {
      "cell_type": "code",
      "source": [
        "import sys\n",
        "\n",
        "a = []\n",
        "for _ in range(5):\n",
        "  x = list(map(int,sys.stdin.readline().rstrip().split()))\n",
        "  a.append(sum(x))\n",
        "\n",
        "print(a.index(max(a))+1,max(a))"
      ],
      "metadata": {
        "id": "YBC8lD2h3XNY"
      },
      "execution_count": null,
      "outputs": []
    }
  ]
}