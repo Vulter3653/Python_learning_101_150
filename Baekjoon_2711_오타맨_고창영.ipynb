{
  "nbformat": 4,
  "nbformat_minor": 0,
  "metadata": {
    "colab": {
      "name": "Baekjoon_2711_오타맨 고창영.ipynb",
      "provenance": [],
      "collapsed_sections": [],
      "authorship_tag": "ABX9TyOUxXHTb3FPPiMV7CbybUmy",
      "include_colab_link": true
    },
    "kernelspec": {
      "name": "python3",
      "display_name": "Python 3"
    },
    "language_info": {
      "name": "python"
    }
  },
  "cells": [
    {
      "cell_type": "markdown",
      "metadata": {
        "id": "view-in-github",
        "colab_type": "text"
      },
      "source": [
        "<a href=\"https://colab.research.google.com/github/Vulter3653/Python_learning_101_150/blob/main/Baekjoon_2711_%EC%98%A4%ED%83%80%EB%A7%A8_%EA%B3%A0%EC%B0%BD%EC%98%81.ipynb\" target=\"_parent\"><img src=\"https://colab.research.google.com/assets/colab-badge.svg\" alt=\"Open In Colab\"/></a>"
      ]
    },
    {
      "cell_type": "code",
      "execution_count": 4,
      "metadata": {
        "colab": {
          "base_uri": "https://localhost:8080/"
        },
        "id": "_z0yaX-_1OKj",
        "outputId": "75549c9c-2683-4fa6-83f9-6c52da962e8f"
      },
      "outputs": [
        {
          "output_type": "stream",
          "name": "stdout",
          "text": [
            "MISPELL\n"
          ]
        }
      ],
      "source": [
        "a = 4\n",
        "b = 'MISSPELL'\n",
        "\n",
        "print(b[:a-1]+b[a:])"
      ]
    },
    {
      "cell_type": "code",
      "source": [
        "for _ in range(int(input())):\n",
        "  a,b = input().rstrip().split()\n",
        "  print(b[:int(a)-1]+b[int(a):])"
      ],
      "metadata": {
        "colab": {
          "base_uri": "https://localhost:8080/"
        },
        "id": "pQfGFEiH1tIS",
        "outputId": "3b57e1e2-dd61-4f3e-b648-9fe29b768cb2"
      },
      "execution_count": 5,
      "outputs": [
        {
          "output_type": "stream",
          "name": "stdout",
          "text": [
            "4\n",
            "4 MISSPELL\n",
            "MISPELL\n",
            "1 PROGRAMMING\n",
            "ROGRAMMING\n",
            "7 CONTEST\n",
            "CONTES\n",
            "3 BALLOON\n",
            "BALOON\n"
          ]
        }
      ]
    },
    {
      "cell_type": "code",
      "source": [
        "import sys\n",
        "for _ in range(int(sys.stdin.readline().rstrip())):\n",
        "  a,b = sys.stdin.readline().rstrip().split()\n",
        "  print(b[:int(a)-1]+b[int(a):])"
      ],
      "metadata": {
        "id": "QoxaP6mN2GT5"
      },
      "execution_count": null,
      "outputs": []
    }
  ]
}