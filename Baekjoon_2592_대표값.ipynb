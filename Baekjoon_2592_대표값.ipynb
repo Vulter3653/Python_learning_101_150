{
  "nbformat": 4,
  "nbformat_minor": 0,
  "metadata": {
    "colab": {
      "name": "Baekjoon_2592_대표값.ipynb",
      "provenance": [],
      "collapsed_sections": [],
      "authorship_tag": "ABX9TyNmnEhwrCruJheg5CadkSt+",
      "include_colab_link": true
    },
    "kernelspec": {
      "name": "python3",
      "display_name": "Python 3"
    },
    "language_info": {
      "name": "python"
    }
  },
  "cells": [
    {
      "cell_type": "markdown",
      "metadata": {
        "id": "view-in-github",
        "colab_type": "text"
      },
      "source": [
        "<a href=\"https://colab.research.google.com/github/Vulter3653/Python_learning_101_150/blob/main/Baekjoon_2592_%EB%8C%80%ED%91%9C%EA%B0%92.ipynb\" target=\"_parent\"><img src=\"https://colab.research.google.com/assets/colab-badge.svg\" alt=\"Open In Colab\"/></a>"
      ]
    },
    {
      "cell_type": "code",
      "execution_count": 6,
      "metadata": {
        "id": "MmDZkUJyMgWy",
        "colab": {
          "base_uri": "https://localhost:8080/"
        },
        "outputId": "8f67fdf4-f0bc-4dae-87c8-a8f203392c49"
      },
      "outputs": [
        {
          "output_type": "stream",
          "name": "stdout",
          "text": [
            "10\n",
            "40\n",
            "30\n",
            "60\n",
            "30\n",
            "20\n",
            "60\n",
            "30\n",
            "40\n",
            "50\n",
            "37\n",
            "30\n"
          ]
        }
      ],
      "source": [
        "a = []\n",
        "b = []\n",
        "\n",
        "for _ in range(10):\n",
        "  x = int(input())\n",
        "  a.append(x)\n",
        "\n",
        "for x in range(len(a)):\n",
        "  y = a.count(a[x])\n",
        "  b.append(y)\n",
        "\n",
        "print(int(sum(a)/len(a)))\n",
        "print(a[b.index(max(b))])"
      ]
    },
    {
      "cell_type": "code",
      "source": [
        "import sys\n",
        "\n",
        "a = []\n",
        "b = []\n",
        "\n",
        "for _ in range(10):\n",
        "  x = int(sys.stdin.readline().rstrip())\n",
        "  a.append(x)\n",
        "\n",
        "for x in range(len(a)):\n",
        "  y = a.count(a[x])\n",
        "  b.append(y)\n",
        "\n",
        "print(int(sum(a)/len(a)))\n",
        "print(a[b.index(max(b))])"
      ],
      "metadata": {
        "id": "RyAau-sZ0Mi0"
      },
      "execution_count": null,
      "outputs": []
    }
  ]
}