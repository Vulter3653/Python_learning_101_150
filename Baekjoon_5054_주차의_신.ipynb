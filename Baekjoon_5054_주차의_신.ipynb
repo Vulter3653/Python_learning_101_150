{
  "nbformat": 4,
  "nbformat_minor": 0,
  "metadata": {
    "colab": {
      "name": "Baekjoon_5054_주차의 신.ipynb",
      "provenance": [],
      "collapsed_sections": [],
      "authorship_tag": "ABX9TyM14cAWKKS5NJXA+MrF4R3+",
      "include_colab_link": true
    },
    "kernelspec": {
      "name": "python3",
      "display_name": "Python 3"
    },
    "language_info": {
      "name": "python"
    }
  },
  "cells": [
    {
      "cell_type": "markdown",
      "metadata": {
        "id": "view-in-github",
        "colab_type": "text"
      },
      "source": [
        "<a href=\"https://colab.research.google.com/github/Vulter3653/Python_learning_101_150/blob/main/Baekjoon_5054_%EC%A3%BC%EC%B0%A8%EC%9D%98_%EC%8B%A0.ipynb\" target=\"_parent\"><img src=\"https://colab.research.google.com/assets/colab-badge.svg\" alt=\"Open In Colab\"/></a>"
      ]
    },
    {
      "cell_type": "code",
      "execution_count": 2,
      "metadata": {
        "colab": {
          "base_uri": "https://localhost:8080/"
        },
        "id": "U9voZAmVvODQ",
        "outputId": "27f240fc-b6a8-45a8-cebd-75d71a32b0c9"
      },
      "outputs": [
        {
          "output_type": "stream",
          "name": "stdout",
          "text": [
            "2\n",
            "4\n",
            "24 13 89 37\n",
            "152\n",
            "6\n",
            "7 30 41 14 39 42\n",
            "70\n"
          ]
        }
      ],
      "source": [
        "for _ in range(int(input())):\n",
        "  input()\n",
        "  a = list(map(int,input().split()))\n",
        "  print(2*(max(a)-min(a)))"
      ]
    },
    {
      "cell_type": "code",
      "source": [
        "import sys\n",
        "for _ in range(int(sys.stdin.readline().rstrip())):\n",
        "  sys.stdin.readline().rstrip()\n",
        "  a = list(map(int,sys.stdin.readline().rstrip().split()))\n",
        "  print(2*(max(a)-min(a)))"
      ],
      "metadata": {
        "id": "bwPSlXS20f9D"
      },
      "execution_count": null,
      "outputs": []
    }
  ]
}