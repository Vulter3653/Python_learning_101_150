{
  "nbformat": 4,
  "nbformat_minor": 0,
  "metadata": {
    "colab": {
      "name": "Baekjoon_2822_점수 계산.ipynb",
      "provenance": [],
      "collapsed_sections": [],
      "authorship_tag": "ABX9TyOO4bHfXZDN/+z+ax/+I29A",
      "include_colab_link": true
    },
    "kernelspec": {
      "name": "python3",
      "display_name": "Python 3"
    },
    "language_info": {
      "name": "python"
    }
  },
  "cells": [
    {
      "cell_type": "markdown",
      "metadata": {
        "id": "view-in-github",
        "colab_type": "text"
      },
      "source": [
        "<a href=\"https://colab.research.google.com/github/Vulter3653/Python_learning_101_150/blob/main/Baekjoon_2822_%EC%A0%90%EC%88%98_%EA%B3%84%EC%82%B0.ipynb\" target=\"_parent\"><img src=\"https://colab.research.google.com/assets/colab-badge.svg\" alt=\"Open In Colab\"/></a>"
      ]
    },
    {
      "cell_type": "code",
      "execution_count": 11,
      "metadata": {
        "colab": {
          "base_uri": "https://localhost:8080/"
        },
        "id": "hUPVatAjPtRy",
        "outputId": "0365e8c3-69c5-4631-b468-c6bb4c287842"
      },
      "outputs": [
        {
          "output_type": "stream",
          "name": "stdout",
          "text": [
            "case 1\n",
            "\n",
            "20\n",
            "30\n",
            "50\n",
            "48\n",
            "33\n",
            "66\n",
            "0\n",
            "64\n",
            "261\n",
            "3 4 5 6 8\n",
            "\n",
            "case 2\n",
            "\n",
            "20\n",
            "0\n",
            "50\n",
            "80\n",
            "77\n",
            "110\n",
            "56\n",
            "48\n",
            "373\n",
            "3 4 5 6 7\n",
            "\n",
            "case 3\n",
            "\n",
            "20\n",
            "30\n",
            "50\n",
            "80\n",
            "110\n",
            "11\n",
            "0\n",
            "85\n",
            "355\n",
            "2 3 4 5 8\n",
            "\n"
          ]
        }
      ],
      "source": [
        "import heapq\n",
        "for k in range(1,4):\n",
        "  print(\"case \"+str(k))\n",
        "  print('')\n",
        "  num = []\n",
        "\n",
        "  for x in range(1,9):\n",
        "    a = int(input())\n",
        "    heapq.heappush(num,(a,x))\n",
        "\n",
        "  for _ in range(3):\n",
        "    heapq.heappop(num)\n",
        "\n",
        "  ans_1 = 0\n",
        "  ans_2 = []\n",
        "\n",
        "  for i in range(5):\n",
        "    ans_1 += num[i][0]\n",
        "    ans_2.append(num[i][1])\n",
        "\n",
        "  ans_2.sort()\n",
        "\n",
        "  print(ans_1)\n",
        "  print('%d %d %d %d %d'%(ans_2[0],ans_2[1],ans_2[2],ans_2[3],ans_2[4]))\n",
        "  print('')"
      ]
    },
    {
      "cell_type": "code",
      "source": [
        "import heapq\n",
        "\n",
        "num = []\n",
        "\n",
        "for x in range(1,9):\n",
        "  a = int(input())\n",
        "  heapq.heappush(num,(a,x))\n",
        "\n",
        "for _ in range(3):\n",
        "  heapq.heappop(num)\n",
        "\n",
        "ans_1 = 0\n",
        "ans_2 = []\n",
        "\n",
        "for i in range(5):\n",
        "  ans_1 += num[i][0]\n",
        "  ans_2.append(num[i][1])\n",
        "\n",
        "ans_2.sort()\n",
        "\n",
        "print(ans_1)\n",
        "print('%d %d %d %d %d'%(ans_2[0],ans_2[1],ans_2[2],ans_2[3],ans_2[4]))"
      ],
      "metadata": {
        "id": "qW2zXfgZSS2O"
      },
      "execution_count": null,
      "outputs": []
    },
    {
      "cell_type": "code",
      "source": [
        "import sys\n",
        "import heapq\n",
        "\n",
        "num = []\n",
        "\n",
        "for x in range(1,9):\n",
        "  a = int(sys.stdin.readline().rstrip())\n",
        "  heapq.heappush(num,(a,x))\n",
        "\n",
        "for _ in range(3):\n",
        "  heapq.heappop(num)\n",
        "\n",
        "ans_1 = 0\n",
        "ans_2 = []\n",
        "\n",
        "for i in range(5):\n",
        "  ans_1 += num[i][0]\n",
        "  ans_2.append(num[i][1])\n",
        "\n",
        "ans_2.sort()\n",
        "\n",
        "print(ans_1)\n",
        "print('%d %d %d %d %d'%(ans_2[0],ans_2[1],ans_2[2],ans_2[3],ans_2[4]))"
      ],
      "metadata": {
        "id": "8M4lSFc0STcR"
      },
      "execution_count": null,
      "outputs": []
    }
  ]
}